{
 "cells": [
  {
   "cell_type": "code",
   "execution_count": 1,
   "id": "1bb84eec-06a5-4408-8752-9db92a9b1a3b",
   "metadata": {},
   "outputs": [
    {
     "name": "stdout",
     "output_type": "stream",
     "text": [
      "Collecting textblob\n",
      "  Downloading textblob-0.18.0.post0-py3-none-any.whl.metadata (4.5 kB)\n",
      "Requirement already satisfied: nltk>=3.8 in c:\\users\\91620\\appdata\\local\\programs\\python\\python312\\lib\\site-packages (from textblob) (3.8.1)\n",
      "Requirement already satisfied: click in c:\\users\\91620\\appdata\\local\\programs\\python\\python312\\lib\\site-packages (from nltk>=3.8->textblob) (8.1.7)\n",
      "Requirement already satisfied: joblib in c:\\users\\91620\\appdata\\local\\programs\\python\\python312\\lib\\site-packages (from nltk>=3.8->textblob) (1.4.2)\n",
      "Requirement already satisfied: regex>=2021.8.3 in c:\\users\\91620\\appdata\\local\\programs\\python\\python312\\lib\\site-packages (from nltk>=3.8->textblob) (2024.5.15)\n",
      "Requirement already satisfied: tqdm in c:\\users\\91620\\appdata\\local\\programs\\python\\python312\\lib\\site-packages (from nltk>=3.8->textblob) (4.66.4)\n",
      "Requirement already satisfied: colorama in c:\\users\\91620\\appdata\\local\\programs\\python\\python312\\lib\\site-packages (from click->nltk>=3.8->textblob) (0.4.6)\n",
      "Downloading textblob-0.18.0.post0-py3-none-any.whl (626 kB)\n",
      "   ---------------------------------------- 0.0/626.3 kB ? eta -:--:--\n",
      "   ---------------------------------------- 626.3/626.3 kB 7.7 MB/s eta 0:00:00\n",
      "Installing collected packages: textblob\n",
      "Successfully installed textblob-0.18.0.post0\n"
     ]
    }
   ],
   "source": [
    "!pip install textblob\n"
   ]
  },
  {
   "cell_type": "code",
   "execution_count": 2,
   "id": "835ae6ac-b70e-4681-b142-c06959757a37",
   "metadata": {},
   "outputs": [],
   "source": [
    "from textblob import TextBlob\n",
    "\n",
    "def analyze_sentiment(sentence):\n",
    "    # Create a TextBlob object\n",
    "    blob = TextBlob(sentence)\n",
    "    \n",
    "    # Analyze the sentiment\n",
    "    sentiment = blob.sentiment\n",
    "    \n",
    "    # Return the polarity and subjectivity\n",
    "    return sentiment.polarity, sentiment.subjectivity\n"
   ]
  },
  {
   "cell_type": "code",
   "execution_count": 3,
   "id": "117f8c8d-e72e-4918-a09c-7905c0a5601e",
   "metadata": {},
   "outputs": [
    {
     "name": "stdout",
     "output_type": "stream",
     "text": [
      "Sentence: I love this new phone! It's amazing.\n",
      "Polarity: 0.4234848484848485, Subjectivity: 0.6515151515151515\n",
      "\n",
      "Sentence: I'm so disappointed with the service.\n",
      "Polarity: -0.75, Subjectivity: 0.75\n",
      "\n",
      "Sentence: The weather today is just okay, neither good nor bad.\n",
      "Polarity: 0.1666666666666667, Subjectivity: 0.5888888888888889\n",
      "\n",
      "Sentence: I feel ecstatic about my recent achievement.\n",
      "Polarity: 0.0, Subjectivity: 0.25\n",
      "\n"
     ]
    }
   ],
   "source": [
    "# Test sentences\n",
    "sentences = [\n",
    "    \"I love this new phone! It's amazing.\",\n",
    "    \"I'm so disappointed with the service.\",\n",
    "    \"The weather today is just okay, neither good nor bad.\",\n",
    "    \"I feel ecstatic about my recent achievement.\"\n",
    "]\n",
    "\n",
    "# Analyze and print sentiment for each sentence\n",
    "for sentence in sentences:\n",
    "    polarity, subjectivity = analyze_sentiment(sentence)\n",
    "    print(f\"Sentence: {sentence}\")\n",
    "    print(f\"Polarity: {polarity}, Subjectivity: {subjectivity}\")\n",
    "    print()\n"
   ]
  },
  {
   "cell_type": "code",
   "execution_count": null,
   "id": "3d4dfa90-6b56-4903-8df0-cd450b2f9fda",
   "metadata": {},
   "outputs": [],
   "source": []
  }
 ],
 "metadata": {
  "kernelspec": {
   "display_name": "Python 3 (ipykernel)",
   "language": "python",
   "name": "python3"
  },
  "language_info": {
   "codemirror_mode": {
    "name": "ipython",
    "version": 3
   },
   "file_extension": ".py",
   "mimetype": "text/x-python",
   "name": "python",
   "nbconvert_exporter": "python",
   "pygments_lexer": "ipython3",
   "version": "3.12.3"
  }
 },
 "nbformat": 4,
 "nbformat_minor": 5
}
